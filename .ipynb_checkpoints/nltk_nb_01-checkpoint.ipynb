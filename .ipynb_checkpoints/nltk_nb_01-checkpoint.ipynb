{
 "cells": [
  {
   "cell_type": "code",
   "execution_count": 38,
   "metadata": {},
   "outputs": [],
   "source": [
    "# MK 26.12.2018 nltk test 01 Jupyter Notebook"
   ]
  },
  {
   "cell_type": "code",
   "execution_count": 39,
   "metadata": {},
   "outputs": [],
   "source": [
    "import nltk"
   ]
  },
  {
   "cell_type": "code",
   "execution_count": 40,
   "metadata": {},
   "outputs": [
    {
     "data": {
      "text/plain": [
       "['austen-emma.txt',\n",
       " 'austen-persuasion.txt',\n",
       " 'austen-sense.txt',\n",
       " 'bible-kjv.txt',\n",
       " 'blake-poems.txt',\n",
       " 'bryant-stories.txt',\n",
       " 'burgess-busterbrown.txt',\n",
       " 'carroll-alice.txt',\n",
       " 'chesterton-ball.txt',\n",
       " 'chesterton-brown.txt',\n",
       " 'chesterton-thursday.txt',\n",
       " 'edgeworth-parents.txt',\n",
       " 'melville-moby_dick.txt',\n",
       " 'milton-paradise.txt',\n",
       " 'shakespeare-caesar.txt',\n",
       " 'shakespeare-hamlet.txt',\n",
       " 'shakespeare-macbeth.txt',\n",
       " 'whitman-leaves.txt']"
      ]
     },
     "execution_count": 40,
     "metadata": {},
     "output_type": "execute_result"
    }
   ],
   "source": [
    "nltk.corpus.gutenberg.fileids()"
   ]
  },
  {
   "cell_type": "code",
   "execution_count": 41,
   "metadata": {},
   "outputs": [],
   "source": [
    "# Pfad zum nltk_data-Verzeichnis - PRÜFEN: das muß aber noch eleganter werden!"
   ]
  },
  {
   "cell_type": "code",
   "execution_count": 42,
   "metadata": {},
   "outputs": [],
   "source": [
    "# toDos: hier einfach ein paar Texte als String einfügen\n",
    "# das \"r\" vor dem langen String (durch 3 Anführungsstriche gekennzeichnet) steht für \"raw\""
   ]
  },
  {
   "cell_type": "code",
   "execution_count": 43,
   "metadata": {},
   "outputs": [],
   "source": [
    "ittext =r\"\"\"COSIMA-Berechtigungen\n",
    " Die Zugangsberechtigung im COSIMA wird über die RACFZugangsberechtigung\n",
    "gesteuert. Zur Berechtigungsprüfung wird auch hier die\n",
    "Hostberechtigungen –im Vorgang beschrieben- herangezogen. Somit muss\n",
    "dies nicht doppelt geschehen.\n",
    " COSIMA-Anwendung Kundenauskunft\n",
    "o Für die Kundenauskunft ist eine Host-ID im RACF inklusive eines\n",
    "SBNR-Eintrags im Feld\n",
    "„Installation Data Field“ erforderlich.\n",
    "o Für die Kundenauskunft ist ein Eintrag im Bild BE20 für die SBNR\n",
    "erforderlich (Profil P282 bei Makler).\n",
    "o Für die Kundenauskunft ist ein Eintrag im Bild BE21 für die SBNR\n",
    "erforderlich (Agenturbestand).\n",
    "o Für die Kundenauskunft ist ein Eintrag im Bild BE30 für die SBNR\n",
    "erforderlich (Agentureintrag).\n",
    " COSIMA-Anwendung Antragsbuch\n",
    "o Für die Antragsbuch ist ein Eintrag im Bild BE20 für die SBNR\n",
    "erforderlich (Profil P282 bei Makler).\n",
    "o Für die Antragsbuch ist ein Eintrag im Bild BE21 für die SBNR\n",
    "erforderlich (Agenturbestand).\n",
    "o Für die Antragsbuch ist ein Eintrag im Bild BE30 für die SBNR\n",
    "erforderlich (Agentureintrag).\n",
    " COSIMA-Anwendung Gewerbetarifierung\n",
    "o Für die Gewerbetarifierung ist ein Eintrag im Bild BE20 für die\n",
    "SBNR erforderlich (Profil P282 bei Makler).\n",
    "o im Bild BE20 für die SBNR ist die Berechtigung S313 erforderlich.\n",
    "o Für die Gewerbetarifierung ist ein Eintrag im Bild BE21 für die\n",
    "SBNR erforderlich (Agenturbestand) .\n",
    "o Für die Gewerbetarifierung ist ein Eintrag im Bild BE30 für die\n",
    "SBNR erforderlich (Agentureintrag)..\"\"\""
   ]
  },
  {
   "cell_type": "code",
   "execution_count": 44,
   "metadata": {},
   "outputs": [],
   "source": [
    "nltk.data.path.append(r\"C:\\Users\\mjkoehler\\AppData\\Roaming\\nltk_data\")"
   ]
  },
  {
   "cell_type": "code",
   "execution_count": 45,
   "metadata": {},
   "outputs": [],
   "source": [
    "from nltk.corpus import twitter_samples"
   ]
  },
  {
   "cell_type": "code",
   "execution_count": 46,
   "metadata": {},
   "outputs": [
    {
     "data": {
      "text/plain": [
       "['negative_tweets.json', 'positive_tweets.json', 'tweets.20150430-223406.json']"
      ]
     },
     "execution_count": 46,
     "metadata": {},
     "output_type": "execute_result"
    }
   ],
   "source": [
    "nltk.corpus.twitter_samples.fileids()"
   ]
  },
  {
   "cell_type": "code",
   "execution_count": null,
   "metadata": {},
   "outputs": [],
   "source": []
  }
 ],
 "metadata": {
  "kernelspec": {
   "display_name": "Python [conda env:mko]",
   "language": "python",
   "name": "conda-env-mko-py"
  },
  "language_info": {
   "codemirror_mode": {
    "name": "ipython",
    "version": 3
   },
   "file_extension": ".py",
   "mimetype": "text/x-python",
   "name": "python",
   "nbconvert_exporter": "python",
   "pygments_lexer": "ipython3",
   "version": "3.5.5"
  }
 },
 "nbformat": 4,
 "nbformat_minor": 2
}
